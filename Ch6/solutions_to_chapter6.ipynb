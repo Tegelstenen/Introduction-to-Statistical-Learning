{
 "cells": [
  {
   "cell_type": "code",
   "execution_count": 80,
   "metadata": {},
   "outputs": [],
   "source": [
    "import numpy as np\n",
    "import pandas as pd\n",
    "from matplotlib.pyplot import subplots\n",
    "from statsmodels.api import OLS\n",
    "import sklearn.model_selection as skm\n",
    "import sklearn.linear_model as skl\n",
    "from sklearn.preprocessing import StandardScaler\n",
    "from ISLP import load_data\n",
    "from ISLP.models import ModelSpec as MS, poly\n",
    "from functools import partial\n",
    "from sklearn.pipeline import Pipeline\n",
    "from sklearn.decomposition import PCA\n",
    "from sklearn.cross_decomposition import PLSRegression\n",
    "from ISLP.models import (Stepwise , sklearn_selected , sklearn_selection_path)\n",
    "from l0bnb import fit_path\n",
    "from pprint import pprint\n"
   ]
  },
  {
   "cell_type": "markdown",
   "metadata": {},
   "source": [
    "# Question 8\n"
   ]
  },
  {
   "cell_type": "markdown",
   "metadata": {},
   "source": [
    "### Simulate data"
   ]
  },
  {
   "cell_type": "code",
   "execution_count": 50,
   "metadata": {},
   "outputs": [],
   "source": [
    "X = np.random.normal(loc=35, scale=3, size=100)\n",
    "noise = np.random.normal(size=100)\n",
    "\n",
    "B_0 = 22\n",
    "B_1 = -12\n",
    "B_2 = 11\n",
    "B_3 = 3\n",
    "\n",
    "Y = B_0 + B_1*X + B_2 * X**2 + B_3 * X**3 + noise"
   ]
  },
  {
   "cell_type": "markdown",
   "metadata": {},
   "source": [
    "### Perform forward stepwise selection\n",
    "\n",
    "The selection strategy suggested $X^2$ and $X^3$ as the best predictors."
   ]
  },
  {
   "cell_type": "code",
   "execution_count": 86,
   "metadata": {},
   "outputs": [
    {
     "name": "stdout",
     "output_type": "stream",
     "text": [
      "    intercept  poly(X, degree=10)[0]  poly(X, degree=10)[1]  \\\n",
      "0         1.0              -0.072223              -0.040508   \n",
      "1         1.0              -0.035519              -0.061412   \n",
      "2         1.0               0.040531              -0.049011   \n",
      "3         1.0               0.054751              -0.038351   \n",
      "4         1.0               0.000505              -0.064906   \n",
      "..        ...                    ...                    ...   \n",
      "95        1.0               0.061032              -0.032807   \n",
      "96        1.0              -0.097305              -0.016154   \n",
      "97        1.0              -0.025871              -0.064002   \n",
      "98        1.0               0.014370              -0.061757   \n",
      "99        1.0               0.145663               0.091897   \n",
      "\n",
      "    poly(X, degree=10)[2]  poly(X, degree=10)[3]  poly(X, degree=10)[4]  \\\n",
      "0                0.068507               0.029818              -0.075246   \n",
      "1                0.023725               0.073792              -0.024284   \n",
      "2               -0.065248               0.025236               0.077044   \n",
      "3               -0.075091              -0.000366               0.073447   \n",
      "4               -0.023066               0.072997               0.039959   \n",
      "..                    ...                    ...                    ...   \n",
      "95              -0.078283              -0.012547               0.068533   \n",
      "96               0.091645              -0.022419              -0.079956   \n",
      "97               0.011018               0.077917              -0.006634   \n",
      "98              -0.039537               0.061393               0.059295   \n",
      "99              -0.021333              -0.138142              -0.151597   \n",
      "\n",
      "    poly(X, degree=10)[5]  poly(X, degree=10)[6]  poly(X, degree=10)[7]  \\\n",
      "0               -0.002530               0.083313              -0.058464   \n",
      "1               -0.071111               0.028016               0.066490   \n",
      "2                0.007353              -0.080400              -0.025342   \n",
      "3                0.038673              -0.054671              -0.060918   \n",
      "4               -0.067154              -0.061017               0.081553   \n",
      "..                    ...                    ...                    ...   \n",
      "95               0.051271              -0.038380              -0.071400   \n",
      "96               0.065307               0.055650              -0.124698   \n",
      "97              -0.077560               0.003062               0.084485   \n",
      "98              -0.047058              -0.082073               0.052390   \n",
      "99              -0.037014               0.115829               0.168203   \n",
      "\n",
      "    poly(X, degree=10)[8]  poly(X, degree=10)[9]  \n",
      "0               -0.057044               0.073892  \n",
      "1               -0.035235              -0.063314  \n",
      "2                0.065820               0.062890  \n",
      "3                0.015330               0.069297  \n",
      "4                0.074433              -0.058532  \n",
      "..                    ...                    ...  \n",
      "95              -0.010901               0.060529  \n",
      "96               0.023666               0.107915  \n",
      "97              -0.006180              -0.081628  \n",
      "98               0.095801              -0.014224  \n",
      "99               0.118206               0.005969  \n",
      "\n",
      "[100 rows x 11 columns]\n"
     ]
    }
   ],
   "source": [
    "# Define a cp function\n",
    "def nCp(sigma2, estimator, X, Y):\n",
    "    \"\"\"Negative Cp statistic.\"\"\"\n",
    "    n, p = X.shape\n",
    "    Yhat = estimator.predict(X)\n",
    "    RSS = np.sum((Y - Yhat) ** 2)\n",
    "    return -(RSS + 2 * p * sigma2) / n\n",
    "\n",
    "# Create design matrix\n",
    "df = pd.DataFrame(X, columns=['X'])\n",
    "spec = MS([poly('X', 10)]).fit_transform(df)\n",
    "print(spec)\n",
    "\n",
    "# # Estimate sigma^2\n",
    "# sigma2 = OLS(Y,design).fit().scale\n",
    "\n",
    "# # Createt Scorer\n",
    "# neg_Cp = partial(nCp, sigma2)\n",
    "\n",
    "# # Stepwise forward selcetion\n",
    "# strategy_forward = Stepwise.first_peak(spec, direction='forward', max_terms=len(spec.terms))\n",
    "\n",
    "# Cp_scores_forward = sklearn_selected(OLS, strategy_forward , scoring=neg_Cp)\n",
    "# Cp_scores_forward.fit(df, Y)\n",
    "# Cp_scores_forward.selected_state_"
   ]
  },
  {
   "cell_type": "markdown",
   "metadata": {},
   "source": [
    "# Backward Selection "
   ]
  },
  {
   "cell_type": "code",
   "execution_count": 77,
   "metadata": {},
   "outputs": [
    {
     "data": {
      "text/plain": [
       "()"
      ]
     },
     "execution_count": 77,
     "metadata": {},
     "output_type": "execute_result"
    }
   ],
   "source": [
    "strategy_backward = Stepwise.first_peak(spec, direction='backward', max_terms=len(spec.terms))\n",
    "Cp_scores_backward = sklearn_selected(OLS, strategy_backward)\n",
    "Cp_scores_backward.fit(df, Y)\n",
    "Cp_scores_backward.selected_state_\n"
   ]
  }
 ],
 "metadata": {
  "kernelspec": {
   "display_name": "islp",
   "language": "python",
   "name": "python3"
  },
  "language_info": {
   "codemirror_mode": {
    "name": "ipython",
    "version": 3
   },
   "file_extension": ".py",
   "mimetype": "text/x-python",
   "name": "python",
   "nbconvert_exporter": "python",
   "pygments_lexer": "ipython3",
   "version": "3.9.18"
  }
 },
 "nbformat": 4,
 "nbformat_minor": 2
}
