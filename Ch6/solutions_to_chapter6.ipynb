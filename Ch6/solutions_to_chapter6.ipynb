{
 "cells": [
  {
   "cell_type": "code",
   "execution_count": 1,
   "metadata": {},
   "outputs": [],
   "source": [
    "import pandas as pd\n",
    "import numpy as np\n",
    "from sklearn import linear_model\n",
    "from sklearn.model_selection import train_test_split\n",
    "from sklearn.metrics import accuracy_score\n",
    "from sklearn.feature_selection import SequentialFeatureSelector"
   ]
  },
  {
   "cell_type": "markdown",
   "metadata": {},
   "source": [
    "# Question 8\n"
   ]
  },
  {
   "cell_type": "markdown",
   "metadata": {},
   "source": [
    "### Simulate data"
   ]
  },
  {
   "cell_type": "code",
   "execution_count": 2,
   "metadata": {},
   "outputs": [],
   "source": [
    "X = np.random.normal(loc=35, scale=3, size=100)\n",
    "noise = np.random.normal(size=100)\n",
    "\n",
    "B_0 = 22\n",
    "B_1 = -12\n",
    "B_2 = 11\n",
    "B_3 = 3\n",
    "\n",
    "# Create feuture and response\n",
    "Y = B_0 + B_1 * X + B_2 * X**2 + B_3 * X**3 + noise\n",
    "X = pd.DataFrame({f\"X^{i}\": X**i for i in range(1, 11)})\n",
    "\n",
    "# Perform forward stepwise selection\n",
    "sfs = SequentialFeatureSelector(\n",
    "    linear_model.LogisticRegression(),\n",
    "    k_features=3,\n",
    "    forward=True,\n",
    "    scoring=\"accuracy\",\n",
    "    cv=None,\n",
    ")\n",
    "selected_features = sfs.fit(X, y)"
   ]
  },
  {
   "cell_type": "markdown",
   "metadata": {},
   "source": [
    "### Perform forward stepwise selection\n",
    "\n",
    "The selection strategy suggested $X^2$ and $X^3$ as the best predictors."
   ]
  },
  {
   "cell_type": "code",
   "execution_count": 7,
   "metadata": {},
   "outputs": [
    {
     "data": {
      "text/plain": [
       "('X^2', 'X^3')"
      ]
     },
     "execution_count": 7,
     "metadata": {},
     "output_type": "execute_result"
    }
   ],
   "source": [
    "# Define a cp function\n",
    "def nCp(sigma2, estimator, X, Y):\n",
    "    \"\"\"Negative Cp statistic.\"\"\"\n",
    "    n, p = X.shape\n",
    "    Yhat = estimator.predict(X)\n",
    "    RSS = np.sum((Y - Yhat) ** 2)\n",
    "    return -(RSS + 2 * p * sigma2) / n\n",
    "\n",
    "# Feutures to choose from \n",
    "\n"
   ]
  },
  {
   "cell_type": "markdown",
   "metadata": {},
   "source": [
    "### Backward Selection "
   ]
  },
  {
   "cell_type": "markdown",
   "metadata": {},
   "source": [
    "Appears to not be fully working"
   ]
  },
  {
   "cell_type": "code",
   "execution_count": 4,
   "metadata": {},
   "outputs": [
    {
     "data": {
      "text/plain": [
       "()"
      ]
     },
     "execution_count": 4,
     "metadata": {},
     "output_type": "execute_result"
    }
   ],
   "source": [
    "strategy_backward = Stepwise.first_peak(spec, direction='backward', max_terms=len(spec.terms))\n",
    "Cp_scores_backward = sklearn_selected(OLS, strategy_backward, scoring=neg_Cp)\n",
    "Cp_scores_backward.fit(df, Y)\n",
    "Cp_scores_backward.selected_state_"
   ]
  },
  {
   "cell_type": "markdown",
   "metadata": {},
   "source": [
    "### Lasso"
   ]
  },
  {
   "cell_type": "code",
   "execution_count": 6,
   "metadata": {},
   "outputs": [
    {
     "data": {
      "text/plain": [
       "29.40383569317111"
      ]
     },
     "execution_count": 6,
     "metadata": {},
     "output_type": "execute_result"
    }
   ],
   "source": [
    "# Define the model\n"
   ]
  },
  {
   "cell_type": "code",
   "execution_count": null,
   "metadata": {},
   "outputs": [],
   "source": []
  }
 ],
 "metadata": {
  "kernelspec": {
   "display_name": "islp",
   "language": "python",
   "name": "python3"
  },
  "language_info": {
   "codemirror_mode": {
    "name": "ipython",
    "version": 3
   },
   "file_extension": ".py",
   "mimetype": "text/x-python",
   "name": "python",
   "nbconvert_exporter": "python",
   "pygments_lexer": "ipython3",
   "version": "3.9.18"
  }
 },
 "nbformat": 4,
 "nbformat_minor": 2
}
