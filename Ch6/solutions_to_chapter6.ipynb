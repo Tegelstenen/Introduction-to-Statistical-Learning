{
 "cells": [
  {
   "cell_type": "code",
   "execution_count": 329,
   "metadata": {},
   "outputs": [],
   "source": [
    "import pandas as pd\n",
    "import numpy as np\n",
    "import matplotlib.pyplot as plt\n",
    "from l0bnb import fit_path\n",
    "from sklearn import linear_model\n",
    "from sklearn.model_selection import (train_test_split, GridSearchCV, cross_val_score)\n",
    "from sklearn.metrics import (accuracy_score, mean_squared_error)\n",
    "from sklearn.feature_selection import SequentialFeatureSelector\n",
    "from ISLP import load_data\n",
    "from sklearn.decomposition import PCA\n",
    "from sklearn.pipeline import Pipeline\n",
    "from sklearn.preprocessing import StandardScaler\n",
    "from sklearn.cross_decomposition import PLSRegression"
   ]
  },
  {
   "cell_type": "markdown",
   "metadata": {},
   "source": [
    "\n",
    "# Question 8\n"
   ]
  },
  {
   "cell_type": "markdown",
   "metadata": {},
   "source": [
    "### Simulate data"
   ]
  },
  {
   "cell_type": "code",
   "execution_count": 330,
   "metadata": {},
   "outputs": [],
   "source": [
    "X = np.random.normal(loc=10, scale=1.5, size=100)\n",
    "noise = np.random.normal(size=100)\n",
    "\n",
    "B_0 = 2\n",
    "B_1 = -3\n",
    "B_2 = 6\n",
    "B_3 = -4\n",
    "\n",
    "# Create feuture and response\n",
    "Y = B_0 + B_1 * X + B_2 * X**2 + B_3 * X**3 + noise\n",
    "X = pd.DataFrame({f\"X^{i}\": X**i for i in range(1, 11)})"
   ]
  },
  {
   "cell_type": "markdown",
   "metadata": {},
   "source": [
    "### Perform forward stepwise selection"
   ]
  },
  {
   "cell_type": "code",
   "execution_count": 331,
   "metadata": {},
   "outputs": [
    {
     "name": "stdout",
     "output_type": "stream",
     "text": [
      "Selected features: ['X^1', 'X^2', 'X^3', 'X^4', 'X^10']\n"
     ]
    }
   ],
   "source": [
    "# Estimate sigma2\n",
    "full_model = linear_model.LinearRegression().fit(X, Y)\n",
    "Y_pred_full = full_model.predict(X)\n",
    "residuals = Y - Y_pred_full\n",
    "sigma2_estimate = mean_squared_error(Y, Y_pred_full)\n",
    "\n",
    "# Create scorer\n",
    "def mallow_cp(estimator, X, y):\n",
    "    \"\"\"Mallows' Cp statistic.\"\"\"\n",
    "    n, p = X.shape\n",
    "    y_pred = estimator.predict(X)\n",
    "    RSS = np.sum((y - y_pred) ** 2)\n",
    "    global sigma2_estimate\n",
    "    return np.negative((RSS + 2 * p * sigma2_estimate) / n)\n",
    "\n",
    "# Forward selection\n",
    "stepwise_forward = SequentialFeatureSelector(\n",
    "    linear_model.LinearRegression(),\n",
    "    scoring=mallow_cp\n",
    ")\n",
    "\n",
    "stepwise_forward.fit(X, Y)\n",
    "selected_features = X.columns[stepwise_forward.get_support()]\n",
    "print(f\"Selected features: {selected_features.tolist()}\")"
   ]
  },
  {
   "cell_type": "markdown",
   "metadata": {},
   "source": [
    "### Backward Selection "
   ]
  },
  {
   "cell_type": "markdown",
   "metadata": {},
   "source": [
    "Same result as forward."
   ]
  },
  {
   "cell_type": "code",
   "execution_count": 332,
   "metadata": {},
   "outputs": [
    {
     "name": "stdout",
     "output_type": "stream",
     "text": [
      "Selected features: ['X^1', 'X^2', 'X^3', 'X^4', 'X^10']\n"
     ]
    }
   ],
   "source": [
    "# Forward selection\n",
    "stepwise_backward = SequentialFeatureSelector(\n",
    "    linear_model.LinearRegression(),\n",
    "    direction='backward',\n",
    "    scoring=mallow_cp\n",
    ")\n",
    "\n",
    "stepwise_backward.fit(X, Y)\n",
    "selected_features = X.columns[stepwise_forward.get_support()]\n",
    "print(f\"Selected features: {selected_features.tolist()}\")"
   ]
  },
  {
   "cell_type": "markdown",
   "metadata": {},
   "source": [
    "### Lasso"
   ]
  },
  {
   "cell_type": "code",
   "execution_count": 333,
   "metadata": {},
   "outputs": [
    {
     "name": "stdout",
     "output_type": "stream",
     "text": [
      "Optimal alpha (lambda) value: 87417520130.49315\n",
      "Coefficients: [-0.00000000e+00 -0.00000000e+00 -0.00000000e+00 -0.00000000e+00\n",
      " -0.00000000e+00 -0.00000000e+00 -0.00000000e+00 -0.00000000e+00\n",
      " -2.11317320e-06  1.21079319e-07]\n"
     ]
    }
   ],
   "source": [
    "# Define the LassoCV model\n",
    "lasso_cv = linear_model.LassoCV(cv=5, random_state=0)\n",
    "\n",
    "# Fit the model\n",
    "lasso_cv.fit(X, Y)\n",
    "\n",
    "# Print the optimal alpha value found by cross-validation\n",
    "print(f\"Optimal alpha (lambda) value: {lasso_cv.alpha_}\")\n",
    "\n",
    "# Use the optimal alpha to fit the final Lasso model\n",
    "lasso = linear_model.Lasso(alpha=lasso_cv.alpha_)\n",
    "lasso.fit(X, Y)\n",
    "\n",
    "# Print the coefficients\n",
    "print(f\"Coefficients: {lasso.coef_}\")"
   ]
  },
  {
   "cell_type": "markdown",
   "metadata": {},
   "source": [
    "# Question 9\n",
    "\n",
    "### Split the data into test and train"
   ]
  },
  {
   "cell_type": "code",
   "execution_count": 334,
   "metadata": {},
   "outputs": [],
   "source": [
    "# Get data\n",
    "df = pd.DataFrame(load_data(\"College\"))\n",
    "# Convert \"Private\" column to numerical values\n",
    "df[\"Private\"] = df[\"Private\"].astype(\"category\").cat.codes\n",
    "\n",
    "y = df[\"Apps\"]\n",
    "X = df.drop(columns=\"Apps\")\n",
    "\n",
    "# Split\n",
    "X_train, X_test, y_train, y_test = train_test_split(\n",
    "    X, y, test_size=0.33, random_state=42\n",
    ")"
   ]
  },
  {
   "cell_type": "markdown",
   "metadata": {},
   "source": [
    "### fit OLS"
   ]
  },
  {
   "cell_type": "code",
   "execution_count": 335,
   "metadata": {},
   "outputs": [
    {
     "name": "stdout",
     "output_type": "stream",
     "text": [
      "Mean Squared Error: 1775604.0090834824\n"
     ]
    }
   ],
   "source": [
    "# Fit\n",
    "linReg = linear_model.LinearRegression()\n",
    "linReg.fit(X_train, y_train)\n",
    "\n",
    "# Find test error\n",
    "predicts = linReg.predict(X_test)\n",
    "mse_ols = mean_squared_error(y_test, predicts)\n",
    "print(f\"Mean Squared Error: {mse_ols}\")"
   ]
  },
  {
   "cell_type": "markdown",
   "metadata": {},
   "source": [
    "### Ridge regression"
   ]
  },
  {
   "cell_type": "code",
   "execution_count": 336,
   "metadata": {},
   "outputs": [
    {
     "name": "stdout",
     "output_type": "stream",
     "text": [
      "Mean Squared Error: 1774949.8442924917\n"
     ]
    }
   ],
   "source": [
    "# Fit ridge with K-fold cv\n",
    "rid_cv = linear_model.RidgeCV(cv=5)\n",
    "rid_cv.fit(X_train, y_train)\n",
    "\n",
    "# Find test error\n",
    "predicts = rid_cv.predict(X_test)\n",
    "mse_rid = mean_squared_error(y_test, predicts)\n",
    "print(f\"Mean Squared Error: {mse_rid}\")"
   ]
  },
  {
   "cell_type": "markdown",
   "metadata": {},
   "source": [
    "### Lasso"
   ]
  },
  {
   "cell_type": "code",
   "execution_count": 337,
   "metadata": {},
   "outputs": [
    {
     "name": "stdout",
     "output_type": "stream",
     "text": [
      "Mean Squared Error: 2039143.1779619863\n",
      "Number of features in use: 6\n"
     ]
    }
   ],
   "source": [
    "# Fit lasso with K-fold cv\n",
    "las_cv = linear_model.LassoCV(cv=5)\n",
    "las_cv.fit(X_train, y_train)\n",
    "\n",
    "# Find test error\n",
    "predicts = las_cv.predict(X_test)\n",
    "mse_rid = mean_squared_error(y_test, predicts)\n",
    "num_features_in_use = np.sum(las_cv.coef_ != 0)\n",
    "print(f\"Mean Squared Error: {mse_rid}\")\n",
    "print(f\"Number of features in use: {num_features_in_use}\")"
   ]
  },
  {
   "cell_type": "markdown",
   "metadata": {},
   "source": [
    "### PCR"
   ]
  },
  {
   "cell_type": "code",
   "execution_count": 338,
   "metadata": {},
   "outputs": [
    {
     "name": "stdout",
     "output_type": "stream",
     "text": [
      "Mean Squared Error: 1775604.0090834817\n",
      "Best number of components: 17\n"
     ]
    }
   ],
   "source": [
    "pipe = Pipeline(\n",
    "    [\n",
    "        (\"scaler\", StandardScaler()),\n",
    "        (\"pca\", PCA()),\n",
    "        (\"linear\", linear_model.LinearRegression()),\n",
    "    ]\n",
    ")\n",
    "\n",
    "params = {\n",
    "    \"pca__n_components\": list(range(1, min(X_train.shape[0], X_train.shape[1]) + 1))\n",
    "}\n",
    "\n",
    "grid_search = GridSearchCV(\n",
    "    pipe, param_grid=params, cv=5, scoring=\"neg_mean_squared_error\"\n",
    ")\n",
    "grid_search.fit(X_train, y_train)\n",
    "\n",
    "\n",
    "predicts = grid_search.predict(X_test)\n",
    "mse_pcr = mean_squared_error(y_test, predicts)\n",
    "print(f\"Mean Squared Error: {mse_pcr}\")\n",
    "print(\n",
    "    f\"Best number of components: {grid_search.best_estimator_.named_steps['pca'].n_components}\"\n",
    ")"
   ]
  },
  {
   "cell_type": "code",
   "execution_count": 339,
   "metadata": {},
   "outputs": [
    {
     "name": "stdout",
     "output_type": "stream",
     "text": [
      "Mean Squared Error for PLS: 1775604.0090834836\n",
      "Best M value selected by cross-validation: 17\n"
     ]
    }
   ],
   "source": [
    "M_values = list(range(1, min(X_train.shape[0], X_train.shape[1]) + 1))\n",
    "\n",
    "best_score = float(\"inf\")\n",
    "best_M = None\n",
    "\n",
    "for M in M_values:\n",
    "    pls = PLSRegression(n_components=M)\n",
    "    score = -np.mean(\n",
    "        cross_val_score(pls, X_train, y_train, cv=5, scoring=\"neg_mean_squared_error\")\n",
    "    )\n",
    "\n",
    "    if score < best_score:\n",
    "        best_score = score\n",
    "        best_M = M\n",
    "\n",
    "pls_best = PLSRegression(n_components=best_M)\n",
    "pls_best.fit(X_train, y_train)\n",
    "\n",
    "predicts_pls = pls_best.predict(X_test)\n",
    "mse_pls = mean_squared_error(y_test, predicts_pls)\n",
    "print(f\"Mean Squared Error for PLS: {mse_pls}\")\n",
    "print(f\"Best M value selected by cross-validation: {best_M}\")"
   ]
  },
  {
   "cell_type": "markdown",
   "metadata": {},
   "source": [
    "# Question 10\n",
    "\n",
    "### Simulate"
   ]
  },
  {
   "cell_type": "code",
   "execution_count": 365,
   "metadata": {},
   "outputs": [],
   "source": [
    "n = 1000\n",
    "p = 20\n",
    "\n",
    "X = np.random.normal(20, 12, (n, p))\n",
    "\n",
    "for i in np.random.randint(0, 19, 4):\n",
    "    X[i] = X[i]**2\n",
    "\n",
    "for i in np.random.randint(0, 19, 4):\n",
    "        X[i] = X[i]**3\n",
    "\n",
    "for i in np.random.randint(0, 19, 4):\n",
    "        X[i] = np.log(np.abs(X[i]))\n",
    "\n",
    "beta = np.random.uniform(-100, 10, p)\n",
    "for i in np.random.randint(0, 19, 7):\n",
    "    beta[i] = 0\n",
    "\n",
    "epsilon = np.random.normal(0, 1, n)\n",
    "\n",
    "y = np.dot(X, beta) + epsilon"
   ]
  },
  {
   "cell_type": "markdown",
   "metadata": {},
   "source": [
    "### Split into training and test"
   ]
  },
  {
   "cell_type": "code",
   "execution_count": 366,
   "metadata": {},
   "outputs": [],
   "source": [
    "X_train, X_test, y_train, y_test = train_test_split(\n",
    "    X, y, test_size=0.9, random_state=42\n",
    ")"
   ]
  },
  {
   "cell_type": "markdown",
   "metadata": {},
   "source": [
    "### Best subset selection"
   ]
  },
  {
   "cell_type": "code",
   "execution_count": 367,
   "metadata": {},
   "outputs": [
    {
     "name": "stdout",
     "output_type": "stream",
     "text": [
      "Preprocessing Data.\n",
      "BnB Started.\n",
      "Iteration: 1. Number of non-zeros:  1\n",
      "Iteration: 2. Number of non-zeros:  2\n",
      "Iteration: 3. Number of non-zeros:  3\n",
      "Iteration: 4. Number of non-zeros:  4\n",
      "Iteration: 5. Number of non-zeros:  6\n",
      "Iteration: 6. Number of non-zeros:  6\n",
      "Iteration: 7. Number of non-zeros:  7\n",
      "Iteration: 8. Number of non-zeros:  9\n",
      "Iteration: 9. Number of non-zeros:  9\n",
      "Iteration: 10. Number of non-zeros:  9\n",
      "Iteration: 11. Number of non-zeros:  9\n",
      "Iteration: 12. Number of non-zeros:  9\n",
      "Iteration: 13. Number of non-zeros:  10\n",
      "Iteration: 14. Number of non-zeros:  10\n",
      "Iteration: 15. Number of non-zeros:  10\n",
      "Iteration: 16. Number of non-zeros:  10\n",
      "Iteration: 17. Number of non-zeros:  10\n",
      "Iteration: 18. Number of non-zeros:  10\n",
      "Iteration: 19. Number of non-zeros:  10\n",
      "Iteration: 20. Number of non-zeros:  10\n",
      "Iteration: 21. Number of non-zeros:  10\n",
      "Iteration: 22. Number of non-zeros:  10\n",
      "Iteration: 23. Number of non-zeros:  10\n",
      "Iteration: 24. Number of non-zeros:  10\n",
      "Iteration: 25. Number of non-zeros:  10\n",
      "Iteration: 26. Number of non-zeros:  12\n",
      "Iteration: 27. Number of non-zeros:  12\n",
      "Iteration: 28. Number of non-zeros:  12\n",
      "Iteration: 29. Number of non-zeros:  12\n",
      "Iteration: 30. Number of non-zeros:  12\n",
      "Iteration: 31. Number of non-zeros:  12\n",
      "Iteration: 32. Number of non-zeros:  12\n",
      "Iteration: 33. Number of non-zeros:  12\n",
      "Iteration: 34. Number of non-zeros:  12\n",
      "Iteration: 35. Number of non-zeros:  12\n",
      "Iteration: 36. Number of non-zeros:  12\n",
      "Iteration: 37. Number of non-zeros:  12\n",
      "Iteration: 38. Number of non-zeros:  12\n",
      "Iteration: 39. Number of non-zeros:  12\n",
      "Iteration: 40. Number of non-zeros:  12\n",
      "Iteration: 41. Number of non-zeros:  12\n",
      "Iteration: 42. Number of non-zeros:  12\n",
      "Iteration: 43. Number of non-zeros:  12\n",
      "Iteration: 44. Number of non-zeros:  12\n",
      "Iteration: 45. Number of non-zeros:  12\n",
      "Iteration: 46. Number of non-zeros:  12\n",
      "Iteration: 47. Number of non-zeros:  12\n",
      "Iteration: 48. Number of non-zeros:  12\n",
      "Iteration: 49. Number of non-zeros:  12\n",
      "Iteration: 50. Number of non-zeros:  12\n",
      "Iteration: 51. Number of non-zeros:  12\n",
      "Iteration: 52. Number of non-zeros:  12\n",
      "Iteration: 53. Number of non-zeros:  12\n",
      "Iteration: 54. Number of non-zeros:  12\n",
      "Iteration: 55. Number of non-zeros:  12\n",
      "Iteration: 56. Number of non-zeros:  12\n",
      "Iteration: 57. Number of non-zeros:  20\n"
     ]
    }
   ],
   "source": []
  },
  {
   "cell_type": "code",
   "execution_count": 372,
   "metadata": {},
   "outputs": [
    {
     "name": "stdout",
     "output_type": "stream",
     "text": [
      "Help on function fit_path in module l0bnb.regpath:\n",
      "\n",
      "fit_path(x, y, lambda_2=0.01, max_nonzeros=10, intercept=True, normalize=True, m_multiplier=1.2, lambda_0_grid=None, lambda_0_grid_warm_start=None, gap_tol=0.01, time_limit=86400, solver='l0bnb')\n",
      "    Solves the L0L2-regularized least squares problem over a sequence of\n",
      "    lambda_0's.\n",
      "    \n",
      "    Note:\n",
      "        By default, the sequence of lambda_0's is automatically selected by the\n",
      "        toolkit such that the number of nonzeros varies between 1 and\n",
      "        max_nonzeros. The parameters max_nonzeros and lambda_2 should be\n",
      "        specified by the user.\n",
      "    \n",
      "    Inputs:\n",
      "        x (numpy array): The data matrix.\n",
      "        y (numpy array): The response vector.\n",
      "        lambda_2 (float): The ridge regularization parameter.\n",
      "        max_nonzeros (int): The maximum number of nonzeros to terminate the\n",
      "            regularization path at.\n",
      "        intercept (bool): If True, adds an intercept term to the regression\n",
      "            model. Defaults to True.\n",
      "        normalize (bool): If True, rescales y and each column of X to have unit\n",
      "            l2 norm. Defaults to True.\n",
      "        m_mulitplier (float): A scalar >= 1 used in estimating the big-M. The\n",
      "            big-M is defined as the L_infinity norm of the warm start times\n",
      "            m_mulitplier. Defaults to 1.2. Larger values can increase the\n",
      "            run time.\n",
      "        lambda_0_grid (list): A list of user-specified lambda_0's. The list\n",
      "            should be sorted in descending order. By default, this option is\n",
      "            not used since the toolkit automatically selects a grid of\n",
      "            lambda_0's. Using this option is not recommended, unless the\n",
      "            default grid is not returning the desired number of nonzeros.\n",
      "        lambda_0_grid_warm_start (list): A list of indices of the nonzero\n",
      "            elements in the warm start. This is only used for the first\n",
      "            solution in lambda_0_grid (if lambda_0_grid is specified by\n",
      "            the user).\n",
      "        gap_tol (float): The tolerance for the relative MIP gap.\n",
      "            Defaults to 0.01.\n",
      "        time_limit (float): Maximum run time in seconds per solution.\n",
      "    \n",
      "    Returns:\n",
      "        A list of solutions. Each solution is a dictionary with keys:\n",
      "            \"B\": The coefficient vector (a numpy array).\n",
      "            \"B0\": The intercept term (a scalar).\n",
      "            \"lambda_0\": The lambda_0 that generated the current solution.\n",
      "            \"M\": The big-M used for this solution.\n",
      "            \"Time_exceeded\": True if the time limit is exceeded at the current\n",
      "                solution.\n",
      "\n"
     ]
    }
   ],
   "source": [
    "help(fit_path)\n"
   ]
  },
  {
   "cell_type": "code",
   "execution_count": 368,
   "metadata": {},
   "outputs": [
    {
     "data": {
      "image/png": "[encoded data removed]",
      "text/plain": [
       "<Figure size 640x480 with 1 Axes>"
      ]
     },
     "metadata": {},
     "output_type": "display_data"
    }
   ],
   "source": [
    "mse_train = []\n",
    "for M in path:\n",
    "    preds = M['B0'] + np.dot(X_train, M['B'])\n",
    "    mse = mean_squared_error(y_train, preds)\n",
    "    mse_train.append(mse)\n",
    "\n",
    "plt.plot(range(1, len(mse_train) + 1), mse_train, marker='o')\n",
    "plt.xlabel('Number of Features')\n",
    "plt.ylabel('Training Set MSE')\n",
    "plt.title('Training Set MSE vs. Number of Features')\n",
    "plt.show()"
   ]
  },
  {
   "cell_type": "markdown",
   "metadata": {},
   "source": [
    "### MSE vs. Features test"
   ]
  },
  {
   "cell_type": "code",
   "execution_count": 369,
   "metadata": {},
   "outputs": [
    {
     "data": {
      "image/png": "[encoded data removed]",
      "text/plain": [
       "<Figure size 640x480 with 1 Axes>"
      ]
     },
     "metadata": {},
     "output_type": "display_data"
    }
   ],
   "source": [
    "mse_test = []\n",
    "for M in path:\n",
    "    preds = M['B0'] + np.dot(X_test, M['B'])\n",
    "    mse = mean_squared_error(y_test, preds)\n",
    "    mse_test.append(mse)\n",
    "\n",
    "plt.plot(range(1, len(mse_test) + 1), mse_test, marker='o')\n",
    "plt.xlabel('Number of Features')\n",
    "plt.ylabel('Test Set MSE')\n",
    "plt.title('Test Set MSE vs. Number of Features')\n",
    "plt.show()"
   ]
  },
  {
   "cell_type": "code",
   "execution_count": null,
   "metadata": {},
   "outputs": [],
   "source": [
    "np.min(mse_test)\n"
   ]
  }
 ],
 "metadata": {
  "kernelspec": {
   "display_name": "islp",
   "language": "python",
   "name": "python3"
  },
  "language_info": {
   "codemirror_mode": {
    "name": "ipython",
    "version": 3
   },
   "file_extension": ".py",
   "mimetype": "text/x-python",
   "name": "python",
   "nbconvert_exporter": "python",
   "pygments_lexer": "ipython3",
   "version": "3.9.18"
  }
 },
 "nbformat": 4,
 "nbformat_minor": 2
}
